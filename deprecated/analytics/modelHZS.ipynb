{
  "nbformat": 4,
  "nbformat_minor": 0,
  "metadata": {
    "colab": {
      "name": "modelHZS.ipynb",
      "provenance": [],
      "collapsed_sections": []
    },
    "kernelspec": {
      "name": "python3",
      "display_name": "Python 3"
    },
    "language_info": {
      "name": "python"
    }
  },
  "cells": [
    {
      "cell_type": "code",
      "metadata": {
        "colab": {
          "base_uri": "https://localhost:8080/"
        },
        "id": "9jGUmREBKgDq",
        "outputId": "2741098e-6388-4caf-eeb7-71a628412c60"
      },
      "source": [
        "from google.colab import drive\n",
        "drive.mount('/content/drive')"
      ],
      "execution_count": 1,
      "outputs": [
        {
          "output_type": "stream",
          "name": "stdout",
          "text": [
            "Mounted at /content/drive\n"
          ]
        }
      ]
    },
    {
      "cell_type": "code",
      "metadata": {
        "id": "i4jR1uqNKsYy"
      },
      "source": [
        "import pandas as pd\n",
        "data=pd.read_csv('/content/drive/MyDrive/dataProcessed.csv')"
      ],
      "execution_count": 91,
      "outputs": []
    },
    {
      "cell_type": "code",
      "metadata": {
        "id": "zuQh8Hq9K5YC"
      },
      "source": [
        "import pandas as pd\n",
        "pd.set_option('display.max_rows', 50000)\n",
        "pd.set_option('display.max_columns', 500)\n",
        "pd.set_option('display.width', 1000)"
      ],
      "execution_count": 3,
      "outputs": []
    },
    {
      "cell_type": "code",
      "metadata": {
        "id": "xSHWngUeX6J1"
      },
      "source": [
        "Xtrain=X[:100000]\n",
        "Ytrain=Y[:100000]"
      ],
      "execution_count": 6,
      "outputs": []
    },
    {
      "cell_type": "code",
      "metadata": {
        "colab": {
          "base_uri": "https://localhost:8080/"
        },
        "id": "mOqNeI80dV0I",
        "outputId": "5aa4ca29-7056-4db2-ca3d-75b714491a27"
      },
      "source": [
        "data.isnull().sum()"
      ],
      "execution_count": 90,
      "outputs": [
        {
          "output_type": "execute_result",
          "data": {
            "text/plain": [
              "Latitude     0\n",
              "Longitude    0\n",
              "A2_RSSI      0\n",
              "avg_rssi     0\n",
              "TS           0\n",
              "dtype: int64"
            ]
          },
          "metadata": {},
          "execution_count": 90
        }
      ]
    },
    {
      "cell_type": "code",
      "metadata": {
        "id": "orJWc4ywLkH4"
      },
      "source": [
        "from keras.models import Sequential\n",
        "from keras.layers import Dense, BatchNormalization\n",
        "\n",
        "\n",
        "model = Sequential()\n",
        "model.add(BatchNormalization())\n",
        "model.add(Dense(500, input_dim=5, activation='relu', kernel_initializer='he_normal'))\n",
        "model.add(BatchNormalization())\n",
        "model.add(Dense(25, activation='relu', kernel_initializer='he_normal'))\n",
        "model.add(BatchNormalization())\n",
        "model.add(Dense(3, activation='relu', kernel_initializer='he_normal'))\n",
        "model.add(BatchNormalization())\n",
        "model.add(Dense(1,kernel_initializer='normal'))\n",
        "\n",
        "model.compile(loss='mse', optimizer='adam')\n",
        "history=model.fit(Xtrain,Ytrain,epochs=20, batch_size=64 )"
      ],
      "execution_count": null,
      "outputs": []
    },
    {
      "cell_type": "code",
      "metadata": {
        "colab": {
          "base_uri": "https://localhost:8080/",
          "height": 35
        },
        "id": "rRrQfOpSFBtf",
        "outputId": "2154740f-62e7-41ad-a5b7-443ccbd8dfc5"
      },
      "source": [
        "data['DateTime'].max()"
      ],
      "execution_count": 92,
      "outputs": [
        {
          "output_type": "execute_result",
          "data": {
            "application/vnd.google.colaboratory.intrinsic+json": {
              "type": "string"
            },
            "text/plain": [
              "'2021-06-24 19:30:07'"
            ]
          },
          "metadata": {},
          "execution_count": 92
        }
      ]
    },
    {
      "cell_type": "code",
      "metadata": {
        "id": "HTTYeC6SE0_w"
      },
      "source": [
        "X=data[data['DateTime']<'2021-06-24 19:30:07']\n",
        "X=X['2021-06-01 19:30:07'<X['DateTime']]"
      ],
      "execution_count": 93,
      "outputs": []
    },
    {
      "cell_type": "code",
      "metadata": {
        "id": "jUc-p5gUFvFS"
      },
      "source": [
        "tem=data['2021-06-01 00:00:00'<data['DateTime']]\n",
        "tem=tem[tem['DateTime']<'2021-06-01 23:59:59']"
      ],
      "execution_count": 65,
      "outputs": []
    },
    {
      "cell_type": "code",
      "metadata": {
        "colab": {
          "base_uri": "https://localhost:8080/"
        },
        "id": "UvlZl6wtNnAB",
        "outputId": "ded5fc5c-8424-4f2c-e52d-9111f8c577e8"
      },
      "source": [
        "tem['Failure']=0\n",
        "for i in range(len(tem)):\n",
        "  if tem['A2_RSSI'].iloc[i]<1.5:\n",
        "    tem['Failure'].iloc[i]=1"
      ],
      "execution_count": 67,
      "outputs": [
        {
          "output_type": "stream",
          "name": "stderr",
          "text": [
            "/usr/local/lib/python3.7/dist-packages/pandas/core/indexing.py:670: SettingWithCopyWarning: \n",
            "A value is trying to be set on a copy of a slice from a DataFrame\n",
            "\n",
            "See the caveats in the documentation: https://pandas.pydata.org/pandas-docs/stable/user_guide/indexing.html#returning-a-view-versus-a-copy\n",
            "  iloc._setitem_with_indexer(indexer, value)\n"
          ]
        }
      ]
    },
    {
      "cell_type": "code",
      "metadata": {
        "id": "vWkSI2hTN19r"
      },
      "source": [
        "tem.to_csv('current.csv')"
      ],
      "execution_count": 69,
      "outputs": []
    },
    {
      "cell_type": "code",
      "metadata": {
        "id": "Lwc_P5aTHJ0T"
      },
      "source": [
        "temp=X\n",
        "temp=temp.drop(columns=['Unnamed: 0','TrackSegment','TourID',\t'DateTime','Failure','avg_snr','SNR','A2_RSSI'])\n"
      ],
      "execution_count": 22,
      "outputs": []
    },
    {
      "cell_type": "code",
      "metadata": {
        "id": "H7vmgO-sYcL3"
      },
      "source": [
        "y=model.predict(temp)"
      ],
      "execution_count": 23,
      "outputs": []
    },
    {
      "cell_type": "code",
      "metadata": {
        "colab": {
          "base_uri": "https://localhost:8080/",
          "height": 315
        },
        "id": "ze9ETi2HHXie",
        "outputId": "80aad913-6fba-49dc-98ee-d269dc2ef420"
      },
      "source": [
        "main=X\n",
        "main['A2_RSSI']=y\n",
        "print(X.head())\n",
        "main.head()"
      ],
      "execution_count": 30,
      "outputs": [
        {
          "output_type": "stream",
          "name": "stdout",
          "text": [
            "       Unnamed: 0  TrackSegment      TourID             DateTime   Latitude  Longitude   A2_RSSI  SNR  avg_snr  avg_rssi  Failure          TS\n",
            "93435      772644           323  29909343.0  2021-06-01 19:30:10  47.309187   8.115564  2.076944  0.8     0.69     2.062        0  1622534770\n",
            "93051      769159           322  29909343.0  2021-06-01 19:30:19  47.310177   8.115105  1.769316  1.0     0.60     1.726        0  1622534779\n",
            "92667      765673           321  29909343.0  2021-06-01 19:30:56  47.310761   8.114568  1.865812  1.0     0.60     1.830        0  1622534816\n",
            "92283      762190           320  29909343.0  2021-06-01 19:31:08  47.311649   8.114099  1.732814  1.0     0.80     1.688        0  1622534828\n",
            "91899      758706           319  29909343.0  2021-06-01 19:31:17  47.312509   8.113830  2.174593  1.0     1.00     2.160        0  1622534837\n"
          ]
        },
        {
          "output_type": "execute_result",
          "data": {
            "text/html": [
              "<div>\n",
              "<style scoped>\n",
              "    .dataframe tbody tr th:only-of-type {\n",
              "        vertical-align: middle;\n",
              "    }\n",
              "\n",
              "    .dataframe tbody tr th {\n",
              "        vertical-align: top;\n",
              "    }\n",
              "\n",
              "    .dataframe thead th {\n",
              "        text-align: right;\n",
              "    }\n",
              "</style>\n",
              "<table border=\"1\" class=\"dataframe\">\n",
              "  <thead>\n",
              "    <tr style=\"text-align: right;\">\n",
              "      <th></th>\n",
              "      <th>Unnamed: 0</th>\n",
              "      <th>TrackSegment</th>\n",
              "      <th>TourID</th>\n",
              "      <th>DateTime</th>\n",
              "      <th>Latitude</th>\n",
              "      <th>Longitude</th>\n",
              "      <th>A2_RSSI</th>\n",
              "      <th>SNR</th>\n",
              "      <th>avg_snr</th>\n",
              "      <th>avg_rssi</th>\n",
              "      <th>Failure</th>\n",
              "      <th>TS</th>\n",
              "    </tr>\n",
              "  </thead>\n",
              "  <tbody>\n",
              "    <tr>\n",
              "      <th>93435</th>\n",
              "      <td>772644</td>\n",
              "      <td>323</td>\n",
              "      <td>29909343.0</td>\n",
              "      <td>2021-06-01 19:30:10</td>\n",
              "      <td>47.309187</td>\n",
              "      <td>8.115564</td>\n",
              "      <td>2.076944</td>\n",
              "      <td>0.8</td>\n",
              "      <td>0.69</td>\n",
              "      <td>2.062</td>\n",
              "      <td>0</td>\n",
              "      <td>1622534770</td>\n",
              "    </tr>\n",
              "    <tr>\n",
              "      <th>93051</th>\n",
              "      <td>769159</td>\n",
              "      <td>322</td>\n",
              "      <td>29909343.0</td>\n",
              "      <td>2021-06-01 19:30:19</td>\n",
              "      <td>47.310177</td>\n",
              "      <td>8.115105</td>\n",
              "      <td>1.769316</td>\n",
              "      <td>1.0</td>\n",
              "      <td>0.60</td>\n",
              "      <td>1.726</td>\n",
              "      <td>0</td>\n",
              "      <td>1622534779</td>\n",
              "    </tr>\n",
              "    <tr>\n",
              "      <th>92667</th>\n",
              "      <td>765673</td>\n",
              "      <td>321</td>\n",
              "      <td>29909343.0</td>\n",
              "      <td>2021-06-01 19:30:56</td>\n",
              "      <td>47.310761</td>\n",
              "      <td>8.114568</td>\n",
              "      <td>1.865812</td>\n",
              "      <td>1.0</td>\n",
              "      <td>0.60</td>\n",
              "      <td>1.830</td>\n",
              "      <td>0</td>\n",
              "      <td>1622534816</td>\n",
              "    </tr>\n",
              "    <tr>\n",
              "      <th>92283</th>\n",
              "      <td>762190</td>\n",
              "      <td>320</td>\n",
              "      <td>29909343.0</td>\n",
              "      <td>2021-06-01 19:31:08</td>\n",
              "      <td>47.311649</td>\n",
              "      <td>8.114099</td>\n",
              "      <td>1.732814</td>\n",
              "      <td>1.0</td>\n",
              "      <td>0.80</td>\n",
              "      <td>1.688</td>\n",
              "      <td>0</td>\n",
              "      <td>1622534828</td>\n",
              "    </tr>\n",
              "    <tr>\n",
              "      <th>91899</th>\n",
              "      <td>758706</td>\n",
              "      <td>319</td>\n",
              "      <td>29909343.0</td>\n",
              "      <td>2021-06-01 19:31:17</td>\n",
              "      <td>47.312509</td>\n",
              "      <td>8.113830</td>\n",
              "      <td>2.174593</td>\n",
              "      <td>1.0</td>\n",
              "      <td>1.00</td>\n",
              "      <td>2.160</td>\n",
              "      <td>0</td>\n",
              "      <td>1622534837</td>\n",
              "    </tr>\n",
              "  </tbody>\n",
              "</table>\n",
              "</div>"
            ],
            "text/plain": [
              "       Unnamed: 0  TrackSegment      TourID             DateTime   Latitude  Longitude   A2_RSSI  SNR  avg_snr  avg_rssi  Failure          TS\n",
              "93435      772644           323  29909343.0  2021-06-01 19:30:10  47.309187   8.115564  2.076944  0.8     0.69     2.062        0  1622534770\n",
              "93051      769159           322  29909343.0  2021-06-01 19:30:19  47.310177   8.115105  1.769316  1.0     0.60     1.726        0  1622534779\n",
              "92667      765673           321  29909343.0  2021-06-01 19:30:56  47.310761   8.114568  1.865812  1.0     0.60     1.830        0  1622534816\n",
              "92283      762190           320  29909343.0  2021-06-01 19:31:08  47.311649   8.114099  1.732814  1.0     0.80     1.688        0  1622534828\n",
              "91899      758706           319  29909343.0  2021-06-01 19:31:17  47.312509   8.113830  2.174593  1.0     1.00     2.160        0  1622534837"
            ]
          },
          "metadata": {},
          "execution_count": 30
        }
      ]
    },
    {
      "cell_type": "code",
      "metadata": {
        "id": "Vft-ARH0W0GW"
      },
      "source": [
        "for i in range(len(main)):\n",
        "  if main['A2_RSSI'].iloc[i]<1.5:\n",
        "    main['Failure'].iloc[i]=0"
      ],
      "execution_count": null,
      "outputs": []
    },
    {
      "cell_type": "code",
      "metadata": {
        "id": "ZcsDre3FW6E5"
      },
      "source": [
        "for i in range(len(main)):\n",
        "  if 1.5<=main['A2_RSSI'].iloc[i]<=1.7:\n",
        "    main['Failure'].iloc[i]=2"
      ],
      "execution_count": null,
      "outputs": []
    },
    {
      "cell_type": "code",
      "metadata": {
        "id": "4OATA4lvI2vL"
      },
      "source": [
        "main.to_csv(\"withpred.csv\")"
      ],
      "execution_count": 34,
      "outputs": []
    },
    {
      "cell_type": "code",
      "metadata": {
        "id": "Xy5tc_PFKFbP"
      },
      "source": [
        "main.to_csv('failuree.csv')"
      ],
      "execution_count": 84,
      "outputs": []
    },
    {
      "cell_type": "code",
      "metadata": {
        "id": "b7YA99BNnxE0"
      },
      "source": [
        "model.save('model.h5')"
      ],
      "execution_count": null,
      "outputs": []
    },
    {
      "cell_type": "code",
      "metadata": {
        "colab": {
          "base_uri": "https://localhost:8080/",
          "height": 297
        },
        "id": "k5_ArI2Titdm",
        "outputId": "3da92ec9-c109-47bb-ddb9-4c0e1acf316b"
      },
      "source": [
        "import matplotlib.pyplot as plt\n",
        "plt.scatter(X['TS'][:15000],X['A2_RSSI'][:15000],color=\"orange\")\n",
        "plt.scatter(X['TS'][:15000:],y[:15000],color=\"purple\")\n",
        "plt.xlabel(\"Time\")\n",
        "plt.ylabel(\"RSSI\")"
      ],
      "execution_count": 99,
      "outputs": [
        {
          "output_type": "execute_result",
          "data": {
            "text/plain": [
              "Text(0, 0.5, 'RSSI')"
            ]
          },
          "metadata": {},
          "execution_count": 99
        },
        {
          "output_type": "display_data",
          "data": {
            "image/png": "[encoded data removed]",
            "text/plain": [
              "<Figure size 432x288 with 1 Axes>"
            ]
          },
          "metadata": {
            "needs_background": "light"
          }
        }
      ]
    },
    {
      "cell_type": "code",
      "metadata": {
        "colab": {
          "base_uri": "https://localhost:8080/"
        },
        "id": "kp9jVkW8i-lk",
        "outputId": "0a17a992-7e51-4cb1-becf-661d18f5d0e5"
      },
      "source": [
        "print(y.max())\n",
        "print(y.min())"
      ],
      "execution_count": 100,
      "outputs": [
        {
          "output_type": "stream",
          "name": "stdout",
          "text": [
            "2.5681841\n",
            "1.4047227\n"
          ]
        }
      ]
    },
    {
      "cell_type": "code",
      "metadata": {
        "id": "VWxjztWSjjt7"
      },
      "source": [
        ""
      ],
      "execution_count": null,
      "outputs": []
    }
  ]
}